{
  "nbformat": 4,
  "nbformat_minor": 0,
  "metadata": {
    "colab": {
      "provenance": []
    },
    "kernelspec": {
      "name": "python3",
      "display_name": "Python 3"
    },
    "language_info": {
      "name": "python"
    }
  },
  "cells": [
    {
      "cell_type": "markdown",
      "source": [
        "**The implementation of Recursive Quicksore (Run the cell)**"
      ],
      "metadata": {
        "id": "_Gh4oc8EVf2P"
      }
    },
    {
      "cell_type": "code",
      "source": [
        "import numpy as np\n",
        "import timeit\n",
        "\n",
        "def quicksort(A, p, r):\n",
        "    if p < r:\n",
        "        q = partition(A, p, r)\n",
        "        quicksort(A, p, q - 1)\n",
        "        quicksort(A, q + 1, r)\n",
        "\n",
        "def partition(A, p, r):\n",
        "    x = A[r]\n",
        "    i = p - 1\n",
        "    for j in range(p, r):\n",
        "        if A[j] <= x:\n",
        "            i = i + 1\n",
        "            A[i], A[j] = A[j], A[i]\n",
        "    A[i + 1], A[r] = A[r], A[i + 1]\n",
        "    return i + 1\n",
        "\n",
        "array=[2,3,55,6,7,8]\n",
        "def run_quicksort_first():\n",
        "    arr_copy = array.copy()  # Make a copy of the array to sort\n",
        "    quicksort(arr_copy, 0, len(arr_copy) - 1)  # Sort the array\n",
        "    return arr_copy  # Return the sorted copy\n",
        "\n",
        "# Time the quicksort function and print the sorted array\n",
        "start_time = timeit.default_timer()\n",
        "sorted_array = run_quicksort_first()\n",
        "end_time = timeit.default_timer()\n",
        "\n",
        "# Calculate the time taken to sort the array\n",
        "first_pivot_time = end_time - start_time\n",
        "\n",
        "print(f\"Time with first element as pivot: {first_pivot_time:.6f} seconds\")\n",
        "print(\"Sorted array:\", sorted_array)\n"
      ],
      "metadata": {
        "colab": {
          "base_uri": "https://localhost:8080/"
        },
        "id": "jZvrVvpAgXFo",
        "outputId": "4f6e6d9f-874c-4a51-b41d-dc118621602b"
      },
      "execution_count": 13,
      "outputs": [
        {
          "output_type": "stream",
          "name": "stdout",
          "text": [
            "Time with first element as pivot: 0.000112 seconds\n",
            "Sorted array: [2, 3, 6, 7, 8, 55]\n"
          ]
        }
      ]
    },
    {
      "cell_type": "markdown",
      "source": [
        "**1. Is Quicksort Stable?**\n",
        "\n",
        "To determine if the quicksort algorithm is stable by observing the behavior of sorting an array with duplicate elements.\n",
        "\n",
        "**Steps:**\n",
        "\n",
        "* Run the provided quicksort code with the array containing duplicates.\n",
        "* Check the order of the unique identifiers for the duplicate keys in the sorted array.\n",
        "\n",
        "**What is your observation?**\n"
      ],
      "metadata": {
        "id": "Mdm8y31Uh4He"
      }
    },
    {
      "cell_type": "code",
      "source": [
        "import numpy as np\n",
        "import timeit\n",
        "\n",
        "def quicksort(A, p, r):\n",
        "    if p < r:\n",
        "        q = partition(A, p, r)\n",
        "        quicksort(A, p, q - 1)\n",
        "        quicksort(A, q + 1, r)\n",
        "\n",
        "def partition(A, p, r):\n",
        "    x = A[r]\n",
        "    i = p - 1\n",
        "    for j in range(p, r):\n",
        "        if A[j] <= x:\n",
        "            i = i + 1\n",
        "            A[i], A[j] = A[j], A[i]\n",
        "    A[i + 1], A[r] = A[r], A[i + 1]\n",
        "    return i + 1\n",
        "\n",
        "# Students should modify the line below\n",
        "array= [(3, 'a'), (1, 'b'), (3, 'g'), (3, 'c'), (2, 'd'), (1, 'e'), (2, 'f'), (1, 'h')]\n",
        "\n",
        "\n",
        "\n",
        "def run_quicksort():\n",
        "    arr_copy = array.copy()  # Make a copy of the array to sort\n",
        "    quicksort(arr_copy, 0, len(arr_copy) - 1)  # Sort the array\n",
        "    return arr_copy  # Return the sorted copy\n",
        "\n",
        "# Time the quicksort function and print the sorted array\n",
        "start_time = timeit.default_timer()\n",
        "sorted_array = run_quicksort()\n",
        "end_time = timeit.default_timer()\n",
        "\n",
        "# Calculate the time taken to sort the array\n",
        "sorting_time = end_time - start_time\n",
        "\n",
        "print(f\"Time to sort: {sorting_time:.6f} seconds\")\n",
        "print(\"Sorted array:\", sorted_array)\n"
      ],
      "metadata": {
        "colab": {
          "base_uri": "https://localhost:8080/"
        },
        "id": "z9Nbiesdh26a",
        "outputId": "f46e9151-0727-4135-846b-ffb0156c6e1d"
      },
      "execution_count": 17,
      "outputs": [
        {
          "output_type": "stream",
          "name": "stdout",
          "text": [
            "Time to sort: 0.000125 seconds\n",
            "Sorted array: [(1, 'b'), (1, 'e'), (1, 'h'), (2, 'd'), (2, 'f'), (3, 'a'), (3, 'c'), (3, 'g')]\n"
          ]
        }
      ]
    },
    {
      "cell_type": "markdown",
      "source": [
        "**2. Exploring Quicksort Performance on Different Data Arrangements**.\n",
        "\n",
        "**Objective**\n",
        "*   Investigate how Quicksort performs on partially sorted, fully\n",
        " sorted, and reverse-sorted data by making minimal code changes.\n",
        "\n",
        "**Task**\n",
        "\n",
        "   * Use the provided function to create partially sorted data. Then, modify the data to create fully sorted and reverse-sorted versions.\n",
        "   * Apply Quicksort to each data set and observe the performance.\n",
        "\n",
        "**Instructions**:\n",
        "* Partially Sorted Data: Run Quicksort with the default array from generate_partially_sorted_data.\n",
        "* Modify array to be fully sorted by setting sorted_fraction=1.\n",
        "* Create a reverse-sorted array by using np.arange(size)[::-1].\n",
        "\n",
        "**Reflection:**\n",
        "* Analyze how the performance changes across different data arrangements.\n",
        "* Discuss why Quicksort might perform better or worse on sorted/reverse-sorted data."
      ],
      "metadata": {
        "id": "ggSJNTjBmRKb"
      }
    },
    {
      "cell_type": "code",
      "source": [
        "import numpy as np\n",
        "import timeit\n",
        "\n",
        "def quicksort(A, p, r):\n",
        "    if p < r:\n",
        "        q = partition(A, p, r)\n",
        "        quicksort(A, p, q - 1)\n",
        "        quicksort(A, q + 1, r)\n",
        "\n",
        "def partition(A, p, r):\n",
        "    x = A[r]  # Pivot selection\n",
        "    i = p - 1\n",
        "    for j in range(p, r):\n",
        "        if A[j] <= x:\n",
        "            i = i + 1\n",
        "            A[i], A[j] = A[j], A[i]\n",
        "    A[i + 1], A[r] = A[r], A[i + 1]\n",
        "    return i + 1\n",
        "\n",
        "def generate_partially_sorted_data(size, sorted_fraction=0.5):\n",
        "    sorted_part = np.arange(int(size * sorted_fraction))\n",
        "    random_part = np.random.uniform(size=int(size * (1 - sorted_fraction)), low=0, high=size)\n",
        "    data = np.concatenate((sorted_part, random_part))\n",
        "    np.random.shuffle(data)\n",
        "    return data\n",
        "\n",
        "# Modify the line below to create different data arrangements\n",
        "array = generate_partially_sorted_data(size=1000, sorted_fraction=0.5)  # Partially sorted\n",
        "\n",
        "def run_quicksort():\n",
        "    arr_copy = array.copy()\n",
        "    quicksort(arr_copy, 0, len(arr_copy) - 1)\n",
        "    return arr_copy\n",
        "\n",
        "start_time = timeit.default_timer()\n",
        "sorted_array = run_quicksort()\n",
        "end_time = timeit.default_timer()\n",
        "\n",
        "print(f\"Time to sort: {end_time - start_time:.6f} seconds\")\n"
      ],
      "metadata": {
        "colab": {
          "base_uri": "https://localhost:8080/"
        },
        "id": "F0A_jy_YmOfg",
        "outputId": "ccf7f0d8-841f-4ba2-d3ff-9732ab1581b0"
      },
      "execution_count": 23,
      "outputs": [
        {
          "output_type": "stream",
          "name": "stdout",
          "text": [
            "Time to sort: 0.040457 seconds\n"
          ]
        }
      ]
    },
    {
      "cell_type": "markdown",
      "source": [
        "**3. Improve Quicksort with a Better Pivot Selection**\n",
        "\n",
        "**Objective**\n",
        "* Enhance the Quicksort algorithm by implementing a more robust pivot selection * Add  your code in  \"Your task: Modify the pivot selection to the median-of-three method\".\n",
        "\n",
        "**Task:**\n",
        "* Modify the Quicksort algorithm by adding some lines of code to implement the \"median-of-three\" pivot selection method.\n"
      ],
      "metadata": {
        "id": "oM84Z-6K2K-r"
      }
    },
    {
      "cell_type": "code",
      "source": [
        "import numpy as np\n",
        "import timeit\n",
        "\n",
        "def quicksort(A, p, r):\n",
        "    if p < r:\n",
        "        q = partition(A, p, r)\n",
        "        quicksort(A, p, q - 1)\n",
        "        quicksort(A, q + 1, r)\n",
        "\n",
        "def partition(A, p, r):\n",
        "    # Your task: Modify the pivot selection to the median-of-three method\n",
        "\n",
        "    x = A[r]  # Current pivot selection\n",
        "    i = p - 1\n",
        "    for j in range(p, r):\n",
        "        if A[j] <= x:\n",
        "            i = i + 1\n",
        "            A[i], A[j] = A[j], A[i]\n",
        "    A[i + 1], A[r] = A[r], A[i + 1]\n",
        "    return i + 1\n",
        "\n",
        "# Test your improved Quicksort with reverse-sorted data\n",
        "array = np.arange(1000)[::-1]  # Reverse-sorted array\n",
        "\n",
        "def run_quicksort():\n",
        "    arr_copy = array.copy()\n",
        "    start_time = timeit.default_timer()\n",
        "    quicksort(arr_copy, 0, len(arr_copy) - 1)\n",
        "    end_time = timeit.default_timer()\n",
        "    print(f\"Time to sort: {end_time - start_time:.6f} seconds\")\n",
        "    return arr_copy\n",
        "\n",
        "sorted_array = run_quicksort()\n",
        "print(\"Sorted array:\", sorted_array[:10], \"...\")\n"
      ],
      "metadata": {
        "id": "NyOe10Yb2JWX"
      },
      "execution_count": null,
      "outputs": []
    },
    {
      "cell_type": "markdown",
      "source": [
        "**4. Implementing Random Pivot Selection in Quicksort**\n",
        "\n",
        "**Objective:**\n",
        "\n",
        "* Enhance the Quicksort algorithm by incorporating a random pivot selection method and compare its performance against the default pivot selection.\n",
        "\n",
        "\n",
        "**Task**:\n",
        "\n",
        "* Modify the provided Quicksort code to implement and use a random pivot selection strategy.\n",
        "\n",
        "**Question:**\n",
        "\n",
        "* How does the introduction of a random pivot selection strategy impact the performance and behavior of the Quicksort algorithm, especially in comparison to using the last element as a pivot?"
      ],
      "metadata": {
        "id": "kJo37yIa40mp"
      }
    },
    {
      "cell_type": "code",
      "source": [
        "import numpy as np\n",
        "import timeit\n",
        "import random\n",
        "\n",
        "def quicksort(A, p, r):\n",
        "    if p < r:\n",
        "        q = partition(A, p, r)  # Modify this to include random pivot selection\n",
        "        quicksort(A, p, q - 1)\n",
        "        quicksort(A, q + 1, r)\n",
        "\n",
        "def partition(A, p, r):\n",
        "    # Implement random pivot selection here\n",
        "\n",
        "    x = A[r]  # Default pivot selection\n",
        "    i = p - 1\n",
        "    for j in range(p, r):\n",
        "        if A[j] <= x:\n",
        "            i = i + 1\n",
        "            A[i], A[j] = A[j], A[i]\n",
        "    A[i + 1], A[r] = A[r], A[i + 1]\n",
        "    return i + 1\n",
        "\n",
        "array = np.random.randint(0, 100, size=1000)  # Random array of integers\n",
        "\n",
        "def run_quicksort():\n",
        "    arr_copy = array.copy()\n",
        "    start_time = timeit.default_timer()\n",
        "    quicksort(arr_copy, 0, len(arr_copy) - 1)\n",
        "    end_time = timeit.default_timer()\n",
        "    print(f\"Time to sort: {end_time - start_time:.6f} seconds\")\n",
        "    return arr_copy\n",
        "\n",
        "# Add your code modifications and then run this function\n",
        "sorted_array = run_quicksort()\n"
      ],
      "metadata": {
        "id": "4S_WS3V_43kp"
      },
      "execution_count": null,
      "outputs": []
    },
    {
      "cell_type": "markdown",
      "source": [
        "**5. Investigating Stability in Merge Sort**\n",
        "\n",
        "**Objective:**\n",
        "\n",
        "* Examine the stability of the Merge Sort algorithm by observing how it handles sorting an array with duplicate elements.\n",
        "\n",
        "**Steps:**\n",
        "\n",
        "* Run the provided Merge Sort code with an array that contains duplicate elements.\n",
        "* Alter the array to consist of pairs, where the first element is the key and the second element serves as a unique identifier. Example: Change array=[1, 2, 3, 3, 3, 3, 1, 1] to array=[(1, 'a'), (2, 'b'), (3, 'c'), (3, 'd'), (3, 'e'), (3, 'f'), (1, 'g'), (1, 'h')].\n",
        "* Execute the Merge Sort function with the modified array.\n",
        "* Examine the order of the unique identifiers for the duplicate keys in the sorted array to assess stability.\n",
        "\n",
        "**Instructions:**\n",
        "\n",
        "  *  Update the merge_sort function to handle sorting tuples based on the first element.\n",
        "  *  Note: The merge_sort function provided needs to be adjusted to sort tuples by their first element and maintain the stability for the second element (the identifier).\n",
        "\n"
      ],
      "metadata": {
        "id": "FUFdEM7U5iDy"
      }
    },
    {
      "cell_type": "code",
      "source": [
        "def merge_sort(arr):\n",
        "    if len(arr) > 1:\n",
        "        mid = len(arr) // 2\n",
        "        L = arr[:mid]\n",
        "        R = arr[mid:]\n",
        "\n",
        "        merge_sort(L)\n",
        "        merge_sort(R)\n",
        "\n",
        "        i = j = k = 0\n",
        "        while i < len(L) and j < len(R):\n",
        "            if L[i] < R[j]:\n",
        "                arr[k] = L[i]\n",
        "                i += 1\n",
        "            else:\n",
        "                arr[k] = R[j]\n",
        "                j += 1\n",
        "            k += 1\n",
        "\n",
        "        while i < len(L):\n",
        "            arr[k] = L[i]\n",
        "            i += 1\n",
        "            k += 1\n",
        "\n",
        "        while j < len(R):\n",
        "            arr[k] = R[j]\n",
        "            j += 1\n",
        "            k += 1\n",
        "\n",
        "# Modify the array as instructed\n",
        "array = [(1, 'a'), (2, 'b'), (3, 'c'), (3, 'd'), (3, 'e'), (3, 'f'), (1, 'g'), (1, 'h')]\n",
        "\n",
        "# Run Merge Sort\n",
        "sorted_array = merge_sort(array.copy())\n",
        "print(\"Sorted array:\", sorted_array)\n"
      ],
      "metadata": {
        "colab": {
          "base_uri": "https://localhost:8080/"
        },
        "id": "bZjUGJwf5jqp",
        "outputId": "a29debd3-e6a3-458c-f871-0af4d2a309c9"
      },
      "execution_count": 5,
      "outputs": [
        {
          "output_type": "stream",
          "name": "stdout",
          "text": [
            "Sorted array: None\n"
          ]
        }
      ]
    },
    {
      "cell_type": "markdown",
      "source": [
        "**6. Comparing Iterative and Recursive Merge Sort**\n",
        "\n",
        "**Objective:**\n",
        "\n",
        "* Compare the performance of iterative and recursive versions of the merge sort algorithm on different types of data arrangements: reversed, sorted, and randomly initialized arrays.\n",
        "\n",
        "**Task:**\n",
        "\n",
        "* You are provided with the iterative version of merge sort.\n",
        "* Implement the recursive version, then run both on various data types to compare their speeds.\n",
        "* Reflect on the differences in performance and hypothesize why they might occur."
      ],
      "metadata": {
        "id": "7L_Vp7Ln8Mt4"
      }
    },
    {
      "cell_type": "code",
      "source": [
        "\n",
        "def merge_iterative(arr):\n",
        "    width = 1\n",
        "    n = len(arr)\n",
        "    while width < n:\n",
        "        for i in range(0, n, 2 * width):\n",
        "            left = i\n",
        "            mid = min(i + width, n)\n",
        "            right = min(i + 2 * width, n)\n",
        "            merged = merge(arr[left:mid], arr[mid:right])\n",
        "            arr[left:left + len(merged)] = merged\n",
        "        width *= 2\n",
        "\n",
        "def merge(left, right):\n",
        "    result = []\n",
        "    i = j = 0\n",
        "    while i < len(left) and j < len(right):\n",
        "        if left[i] < right[j]:\n",
        "            result.append(left[i])\n",
        "            i += 1\n",
        "        else:\n",
        "            result.append(right[j])\n",
        "            j += 1\n",
        "    result.extend(left[i:])\n",
        "    result.extend(right[j:])\n",
        "    return result\n"
      ],
      "metadata": {
        "id": "W9R_5Hdp8NPn"
      },
      "execution_count": 7,
      "outputs": []
    },
    {
      "cell_type": "markdown",
      "source": [
        "**Instructions:**\n",
        "\n",
        "* Write the recursive version of the merge sort algorithm.\n",
        "* Generate reversed, sorted, and random arrays to test the algorithms.\n",
        "* Time both iterative and recursive versions on each data type.\n",
        "* Consider why one version might be faster than the other in certain cases.\n",
        "\n",
        "**For Discussion:**\n",
        "* How does the performance of iterative and recursive merge sort compare on different types of data?\n",
        "* Why might one version outperform the other in specific scenarios?\n",
        "* Consider the role of system stack in recursive calls. How might this impact performance, especially for large datasets?"
      ],
      "metadata": {
        "id": "JQ-l2--Z8UD_"
      }
    },
    {
      "cell_type": "code",
      "source": [
        "def merge_sort_recursive(arr):\n",
        "    if len(arr) > 1:\n",
        "        mid = len(arr) // 2\n",
        "        L = arr[:mid]\n",
        "        R = arr[mid:]\n",
        "\n",
        "        merge_sort_recursive(L)\n",
        "        merge_sort_recursive(R)\n",
        "\n",
        "        # Your code here to merge L and R into arr\n",
        "\n",
        "# Data preparation\n",
        "reversed_array = np.arange(1000, 0, -1)\n",
        "sorted_array = np.arange(1000)\n",
        "random_array = np.random.randint(0, 1000, size=1000)\n",
        "\n",
        "# Timing the algorithms\n",
        "# Use timeit.default_timer() to measure the execution time of each sort\n",
        "\n",
        "# Reflection\n",
        "# Think about the results and provide your insights\n"
      ],
      "metadata": {
        "id": "TKMhqokU8Uqc"
      },
      "execution_count": null,
      "outputs": []
    },
    {
      "cell_type": "markdown",
      "source": [],
      "metadata": {
        "id": "J4a_rFHx8pPk"
      }
    },
    {
      "cell_type": "markdown",
      "source": [
        "**7. Recursivevs Iterative merge sort**\n",
        "\n",
        "A classic example where iterative solutions can outperform recursive ones is in computing Fibonacci numbers. The recursive approach to calculating Fibonacci numbers can be highly inefficient due to repeated calculations and a high number of recursive calls, which can lead to stack overflow for large inputs. An iterative approach, on the other hand, can be much more efficient for large inputs.\n",
        "\n",
        "\n",
        "**Tasks:**\n",
        "* Implement a recursive Fibonacci\n",
        "* Implement an iterative Fibonacci\n",
        "\n",
        "**What is your observation?**\n"
      ],
      "metadata": {
        "id": "YyNc93JhVJBV"
      }
    },
    {
      "cell_type": "code",
      "source": [
        "\n",
        "import timeit\n",
        "# Timing the recursive Fibonacci function\n",
        "start_time = timeit.default_timer()\n",
        "fibonacci_recursive(30)  # A relatively small n due to exponential time complexity\n",
        "end_time = timeit.default_timer()\n",
        "time_recursive = end_time - start_time\n",
        "\n",
        "# Timing the iterative Fibonacci function\n",
        "start_time = timeit.default_timer()\n",
        "fibonacci_iterative(10000)  # A much larger n can be used due to linear time complexity\n",
        "end_time = timeit.default_timer()\n",
        "time_iterative = end_time - start_time\n",
        "\n",
        "print(f\"Recursive Fibonacci (n=30) time: {time_recursive:.6f} seconds\")\n",
        "print(f\"Iterative Fibonacci (n=10000) time: {time_iterative:.6f} seconds\")\n"
      ],
      "metadata": {
        "colab": {
          "base_uri": "https://localhost:8080/"
        },
        "id": "yBKfbWuaVIar",
        "outputId": "19bb5867-971c-4b02-af03-883839e608af"
      },
      "execution_count": 22,
      "outputs": [
        {
          "output_type": "stream",
          "name": "stdout",
          "text": [
            "Recursive Fibonacci (n=30) time: 0.353718 seconds\n",
            "Iterative Fibonacci (n=10000) time: 0.002206 seconds\n"
          ]
        }
      ]
    }
  ]
}