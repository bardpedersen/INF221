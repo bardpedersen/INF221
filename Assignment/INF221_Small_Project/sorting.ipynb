{
 "cells": [
  {
   "cell_type": "markdown",
   "metadata": {},
   "source": [
    "# Small project"
   ]
  },
  {
   "cell_type": "markdown",
   "metadata": {},
   "source": [
    "## Imports"
   ]
  },
  {
   "cell_type": "code",
   "execution_count": 37,
   "metadata": {},
   "outputs": [],
   "source": [
    "import time\n",
    "import numpy as np\n",
    "import matplotlib.pyplot as plt"
   ]
  },
  {
   "cell_type": "markdown",
   "metadata": {},
   "source": [
    "## Insertion Sort"
   ]
  },
  {
   "cell_type": "code",
   "execution_count": 38,
   "metadata": {},
   "outputs": [],
   "source": [
    "# Insert sort, psudo code from lecture 7, 26/02/2024\n",
    "def insert_sort(A):\n",
    "    for j in range(1, len(A)):\n",
    "        key = A[j]\n",
    "        i = j - 1\n",
    "        while i >= 0 and A[i] > key:\n",
    "            A[i + 1] = A[i]\n",
    "            i = i - 1\n",
    "        A[i+ 1] = key\n"
   ]
  },
  {
   "cell_type": "code",
   "execution_count": 39,
   "metadata": {},
   "outputs": [
    {
     "name": "stdout",
     "output_type": "stream",
     "text": [
      "[1, 2, 2, 3, 4, 5, 6]\n"
     ]
    }
   ],
   "source": [
    "# Test the insert sort\n",
    "A = [5, 2, 4, 6, 1, 2, 3]\n",
    "insert_sort(A)\n",
    "print(A)"
   ]
  },
  {
   "cell_type": "markdown",
   "metadata": {},
   "source": [
    "## Merge Sort"
   ]
  },
  {
   "cell_type": "code",
   "execution_count": 40,
   "metadata": {},
   "outputs": [],
   "source": [
    "# Merge sort, psudo code from lecture 7, 26/02/2024\n",
    "\n",
    "def merge(A, p, q, r):\n",
    "    n1 = q - p + 1\n",
    "    n2 = r - q\n",
    "\n",
    "    L = [0] * (n1+1)\n",
    "    R = [0] * (n2+1)\n",
    "\n",
    "    for i in range(n1):\n",
    "        L[i] = A[p + i]\n",
    "    \n",
    "    for j in range(n2):\n",
    "        R[j] = A[q + j + 1]\n",
    "\n",
    "    L[n1] = float('inf')\n",
    "    R[n2] = float('inf')\n",
    "\n",
    "    i = 0\n",
    "    j = 0\n",
    "\n",
    "    for k in range(p, r+1):\n",
    "        if L[i] <= R[j]:\n",
    "            A[k] = L[i]\n",
    "            i = i + 1\n",
    "        else:\n",
    "            A[k] = R[j]\n",
    "            j = j + 1\n",
    "    return A\n",
    "\n",
    "# A  is the array to be sorted\n",
    "# p is the start index\n",
    "# q is the middle index\n",
    "# r is the end index\n",
    "def merge_sort(A, p, r):\n",
    "    if p < r:\n",
    "        q = (p + r) // 2\n",
    "        merge_sort(A, p, q)\n",
    "        merge_sort(A, q+1, r)\n",
    "        merge(A, p, q, r)\n",
    "        #A =  List cointaing two lists, p = start index first list, q = middle index end first list, start sekond list, r =end second list\n",
    "    "
   ]
  },
  {
   "cell_type": "code",
   "execution_count": 41,
   "metadata": {},
   "outputs": [
    {
     "name": "stdout",
     "output_type": "stream",
     "text": [
      "[1, 2, 2, 3, 4, 5, 6]\n"
     ]
    }
   ],
   "source": [
    "A = [5, 2, 4, 6, 1, 2, 3]\n",
    "merge_sort(A, 0, len(A)-1) \n",
    "print(A)"
   ]
  },
  {
   "cell_type": "markdown",
   "metadata": {},
   "source": [
    "## Quick Sort"
   ]
  },
  {
   "cell_type": "code",
   "execution_count": 44,
   "metadata": {},
   "outputs": [],
   "source": [
    "# Quick sort, psudo code from lecture 7, 26/02/2024\n",
    "def partition(A, p, q):\n",
    "    x = A[p]\n",
    "    i = p\n",
    "    for j in range(p+1, q+1):\n",
    "        if A[j] <= x:\n",
    "            i = i + 1\n",
    "            A[i], A[j] = A[j], A[i]\n",
    "    A[i], A[p] = A[p], A[i]\n",
    "    return i \n",
    "\n",
    "def quick_sort(A, p, r):\n",
    "    if p < r:\n",
    "        q = partition(A, p, r)\n",
    "        quick_sort(A, p, q - 1)\n",
    "        quick_sort(A, q + 1, r)"
   ]
  },
  {
   "cell_type": "code",
   "execution_count": 45,
   "metadata": {},
   "outputs": [
    {
     "name": "stdout",
     "output_type": "stream",
     "text": [
      "[1, 2, 2, 3, 4, 5, 6]\n"
     ]
    }
   ],
   "source": [
    "# Test the Quick sort\n",
    "A = [5, 2, 4, 6, 1, 2, 3]\n",
    "quick_sort(A, 0, len(A)-1)\n",
    "print(A)"
   ]
  }
 ],
 "metadata": {
  "kernelspec": {
   "display_name": "Python 3",
   "language": "python",
   "name": "python3"
  },
  "language_info": {
   "codemirror_mode": {
    "name": "ipython",
    "version": 3
   },
   "file_extension": ".py",
   "mimetype": "text/x-python",
   "name": "python",
   "nbconvert_exporter": "python",
   "pygments_lexer": "ipython3",
   "version": "3.9.6"
  }
 },
 "nbformat": 4,
 "nbformat_minor": 2
}
