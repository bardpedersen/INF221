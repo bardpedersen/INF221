{
 "cells": [
  {
   "cell_type": "markdown",
   "metadata": {},
   "source": [
    "Insertion sort\n",
    "Merge sort\n",
    "Quicksort"
   ]
  },
  {
   "cell_type": "code",
   "execution_count": 2,
   "metadata": {},
   "outputs": [],
   "source": [
    "import time\n",
    "import numpy as np\n",
    "import matplotlib.pyplot as plt"
   ]
  },
  {
   "cell_type": "code",
   "execution_count": 3,
   "metadata": {},
   "outputs": [],
   "source": [
    "# Insert sort, psudo code from lecture 7, 26/02/2024\n",
    "def insert_sort(A):\n",
    "    for j in range(1, len(A)):\n",
    "        key = A[j]\n",
    "        i = j - 1\n",
    "        while i >= 0 and A[i] > key:\n",
    "            A[i + 1] = A[i]\n",
    "            i = i - 1\n",
    "        A[i+ 1] = key\n",
    "    return A"
   ]
  },
  {
   "cell_type": "code",
   "execution_count": 4,
   "metadata": {},
   "outputs": [
    {
     "name": "stdout",
     "output_type": "stream",
     "text": [
      "[1, 2, 2, 3, 4, 5, 6]\n"
     ]
    }
   ],
   "source": [
    "# Test the insert sort\n",
    "A = [5, 2, 4, 6, 1, 2, 3]\n",
    "insert_sort(A)\n",
    "print(A)"
   ]
  },
  {
   "cell_type": "code",
   "execution_count": 152,
   "metadata": {},
   "outputs": [],
   "source": [
    "# Merge sort, psudo code from lecture 7, 26/02/2024\n",
    "\n",
    "def merge(A, p, q, r):\n",
    "    n1 = q - p + 1\n",
    "    n2 = r - q\n",
    "\n",
    "    L = [0] * (n1+1)\n",
    "    R = [0] * (n2+1)\n",
    "\n",
    "    for i in range(n1):\n",
    "        L[i] = A[p + i]\n",
    "    \n",
    "    for j in range(n2):\n",
    "        R[j] = A[q + j +1]\n",
    "\n",
    "    L[n1] = float('inf')\n",
    "    R[n2] = float('inf')\n",
    "\n",
    "    i = 0\n",
    "    j = 0\n",
    "\n",
    "    for k in range(p, r+1):\n",
    "        if L[i] <= R[j]:\n",
    "            A[k] = L[i]\n",
    "            i = i + 1\n",
    "        else:\n",
    "            A[k] = R[j]\n",
    "            j = j + 1\n",
    "    return A\n",
    "\n",
    "# A  is the array to be sorted\n",
    "# p is the start index\n",
    "# q is the middle index\n",
    "# r is the end index\n",
    "def merge_sort(A, p, r):\n",
    "    if p < r and len(A) > 0:\n",
    "        q = (p + r) // 2\n",
    "        print(A, p, q, r)\n",
    "        merge_sort(A[p:q], p, q-1)\n",
    "        merge_sort(A[q:r+1], q, r)\n",
    "        merge(A, p, q, r)"
   ]
  },
  {
   "cell_type": "code",
   "execution_count": 153,
   "metadata": {},
   "outputs": [
    {
     "name": "stdout",
     "output_type": "stream",
     "text": [
      "[5, 2, 4, 6, 1, 2, 3] 0 3 6\n",
      "[5, 2, 4] 0 1 2\n",
      "[2, 4] 1 1 2\n",
      "[4] 1 1 2\n"
     ]
    },
    {
     "ename": "IndexError",
     "evalue": "list index out of range",
     "output_type": "error",
     "traceback": [
      "\u001b[0;31m---------------------------------------------------------------------------\u001b[0m",
      "\u001b[0;31mIndexError\u001b[0m                                Traceback (most recent call last)",
      "Cell \u001b[0;32mIn[153], line 2\u001b[0m\n\u001b[1;32m      1\u001b[0m A \u001b[38;5;241m=\u001b[39m [\u001b[38;5;241m5\u001b[39m, \u001b[38;5;241m2\u001b[39m, \u001b[38;5;241m4\u001b[39m, \u001b[38;5;241m6\u001b[39m, \u001b[38;5;241m1\u001b[39m, \u001b[38;5;241m2\u001b[39m, \u001b[38;5;241m3\u001b[39m]\n\u001b[0;32m----> 2\u001b[0m A \u001b[38;5;241m=\u001b[39m \u001b[43mmerge_sort\u001b[49m\u001b[43m(\u001b[49m\u001b[43mA\u001b[49m\u001b[43m,\u001b[49m\u001b[43m \u001b[49m\u001b[38;5;241;43m0\u001b[39;49m\u001b[43m,\u001b[49m\u001b[43m \u001b[49m\u001b[38;5;28;43mlen\u001b[39;49m\u001b[43m(\u001b[49m\u001b[43mA\u001b[49m\u001b[43m)\u001b[49m\u001b[38;5;241;43m-\u001b[39;49m\u001b[38;5;241;43m1\u001b[39;49m\u001b[43m)\u001b[49m \n\u001b[1;32m      3\u001b[0m \u001b[38;5;28mprint\u001b[39m(A)\n",
      "Cell \u001b[0;32mIn[152], line 39\u001b[0m, in \u001b[0;36mmerge_sort\u001b[0;34m(A, p, r)\u001b[0m\n\u001b[1;32m     37\u001b[0m q \u001b[38;5;241m=\u001b[39m (p \u001b[38;5;241m+\u001b[39m r) \u001b[38;5;241m/\u001b[39m\u001b[38;5;241m/\u001b[39m \u001b[38;5;241m2\u001b[39m\n\u001b[1;32m     38\u001b[0m \u001b[38;5;28mprint\u001b[39m(A, p, q, r)\n\u001b[0;32m---> 39\u001b[0m \u001b[43mmerge_sort\u001b[49m\u001b[43m(\u001b[49m\u001b[43mA\u001b[49m\u001b[43m[\u001b[49m\u001b[43mp\u001b[49m\u001b[43m:\u001b[49m\u001b[43mq\u001b[49m\u001b[43m]\u001b[49m\u001b[43m,\u001b[49m\u001b[43m \u001b[49m\u001b[43mp\u001b[49m\u001b[43m,\u001b[49m\u001b[43m \u001b[49m\u001b[43mq\u001b[49m\u001b[38;5;241;43m-\u001b[39;49m\u001b[38;5;241;43m1\u001b[39;49m\u001b[43m)\u001b[49m\n\u001b[1;32m     40\u001b[0m merge_sort(A[q:r\u001b[38;5;241m+\u001b[39m\u001b[38;5;241m1\u001b[39m], q, r)\n\u001b[1;32m     41\u001b[0m merge(A, p, q, r)\n",
      "Cell \u001b[0;32mIn[152], line 40\u001b[0m, in \u001b[0;36mmerge_sort\u001b[0;34m(A, p, r)\u001b[0m\n\u001b[1;32m     38\u001b[0m \u001b[38;5;28mprint\u001b[39m(A, p, q, r)\n\u001b[1;32m     39\u001b[0m merge_sort(A[p:q], p, q\u001b[38;5;241m-\u001b[39m\u001b[38;5;241m1\u001b[39m)\n\u001b[0;32m---> 40\u001b[0m \u001b[43mmerge_sort\u001b[49m\u001b[43m(\u001b[49m\u001b[43mA\u001b[49m\u001b[43m[\u001b[49m\u001b[43mq\u001b[49m\u001b[43m:\u001b[49m\u001b[43mr\u001b[49m\u001b[38;5;241;43m+\u001b[39;49m\u001b[38;5;241;43m1\u001b[39;49m\u001b[43m]\u001b[49m\u001b[43m,\u001b[49m\u001b[43m \u001b[49m\u001b[43mq\u001b[49m\u001b[43m,\u001b[49m\u001b[43m \u001b[49m\u001b[43mr\u001b[49m\u001b[43m)\u001b[49m\n\u001b[1;32m     41\u001b[0m merge(A, p, q, r)\n",
      "Cell \u001b[0;32mIn[152], line 40\u001b[0m, in \u001b[0;36mmerge_sort\u001b[0;34m(A, p, r)\u001b[0m\n\u001b[1;32m     38\u001b[0m \u001b[38;5;28mprint\u001b[39m(A, p, q, r)\n\u001b[1;32m     39\u001b[0m merge_sort(A[p:q], p, q\u001b[38;5;241m-\u001b[39m\u001b[38;5;241m1\u001b[39m)\n\u001b[0;32m---> 40\u001b[0m \u001b[43mmerge_sort\u001b[49m\u001b[43m(\u001b[49m\u001b[43mA\u001b[49m\u001b[43m[\u001b[49m\u001b[43mq\u001b[49m\u001b[43m:\u001b[49m\u001b[43mr\u001b[49m\u001b[38;5;241;43m+\u001b[39;49m\u001b[38;5;241;43m1\u001b[39;49m\u001b[43m]\u001b[49m\u001b[43m,\u001b[49m\u001b[43m \u001b[49m\u001b[43mq\u001b[49m\u001b[43m,\u001b[49m\u001b[43m \u001b[49m\u001b[43mr\u001b[49m\u001b[43m)\u001b[49m\n\u001b[1;32m     41\u001b[0m merge(A, p, q, r)\n",
      "Cell \u001b[0;32mIn[152], line 41\u001b[0m, in \u001b[0;36mmerge_sort\u001b[0;34m(A, p, r)\u001b[0m\n\u001b[1;32m     39\u001b[0m merge_sort(A[p:q], p, q\u001b[38;5;241m-\u001b[39m\u001b[38;5;241m1\u001b[39m)\n\u001b[1;32m     40\u001b[0m merge_sort(A[q:r\u001b[38;5;241m+\u001b[39m\u001b[38;5;241m1\u001b[39m], q, r)\n\u001b[0;32m---> 41\u001b[0m \u001b[43mmerge\u001b[49m\u001b[43m(\u001b[49m\u001b[43mA\u001b[49m\u001b[43m,\u001b[49m\u001b[43m \u001b[49m\u001b[43mp\u001b[49m\u001b[43m,\u001b[49m\u001b[43m \u001b[49m\u001b[43mq\u001b[49m\u001b[43m,\u001b[49m\u001b[43m \u001b[49m\u001b[43mr\u001b[49m\u001b[43m)\u001b[49m\n",
      "Cell \u001b[0;32mIn[152], line 11\u001b[0m, in \u001b[0;36mmerge\u001b[0;34m(A, p, q, r)\u001b[0m\n\u001b[1;32m      8\u001b[0m R \u001b[38;5;241m=\u001b[39m [\u001b[38;5;241m0\u001b[39m] \u001b[38;5;241m*\u001b[39m (n2\u001b[38;5;241m+\u001b[39m\u001b[38;5;241m1\u001b[39m)\n\u001b[1;32m     10\u001b[0m \u001b[38;5;28;01mfor\u001b[39;00m i \u001b[38;5;129;01min\u001b[39;00m \u001b[38;5;28mrange\u001b[39m(n1):\n\u001b[0;32m---> 11\u001b[0m     L[i] \u001b[38;5;241m=\u001b[39m \u001b[43mA\u001b[49m\u001b[43m[\u001b[49m\u001b[43mp\u001b[49m\u001b[43m \u001b[49m\u001b[38;5;241;43m+\u001b[39;49m\u001b[43m \u001b[49m\u001b[43mi\u001b[49m\u001b[43m]\u001b[49m\n\u001b[1;32m     13\u001b[0m \u001b[38;5;28;01mfor\u001b[39;00m j \u001b[38;5;129;01min\u001b[39;00m \u001b[38;5;28mrange\u001b[39m(n2):\n\u001b[1;32m     14\u001b[0m     R[j] \u001b[38;5;241m=\u001b[39m A[q \u001b[38;5;241m+\u001b[39m j \u001b[38;5;241m+\u001b[39m\u001b[38;5;241m1\u001b[39m]\n",
      "\u001b[0;31mIndexError\u001b[0m: list index out of range"
     ]
    }
   ],
   "source": [
    "A = [5, 2, 4, 6, 1, 2, 3]\n",
    "A = merge_sort(A, 0, len(A)-1) \n",
    "print(A)"
   ]
  },
  {
   "cell_type": "code",
   "execution_count": 127,
   "metadata": {},
   "outputs": [
    {
     "name": "stdout",
     "output_type": "stream",
     "text": [
      "1\n"
     ]
    }
   ],
   "source": [
    "print(3//2)"
   ]
  },
  {
   "cell_type": "code",
   "execution_count": 101,
   "metadata": {},
   "outputs": [
    {
     "name": "stdout",
     "output_type": "stream",
     "text": [
      "[1, 2, 3, 4, inf] [1, 2, 3, inf]\n",
      "1 1\n",
      "1\n",
      "2 1\n",
      "2 2\n",
      "2\n",
      "3 2\n",
      "3 3\n",
      "3\n",
      "4 3\n",
      "4 inf\n",
      "4\n",
      "[1, 1, 2, 2, 3, 3, 4]\n"
     ]
    }
   ],
   "source": [
    "# Test the merge sort\n",
    "A = [1, 2, 3, 4, 1, 2, 3]\n",
    "A = merge(A, 0, 3, len(A)-1) \n",
    "print(A)"
   ]
  },
  {
   "cell_type": "code",
   "execution_count": 82,
   "metadata": {},
   "outputs": [],
   "source": [
    "# Quick sort, psudo code from lecture 7, 26/02/2024\n",
    "def partition(A, p, q):\n",
    "    x = A[q]\n",
    "    i = p\n",
    "    for j in range(p, q):\n",
    "        if A[j] <= x:\n",
    "            i = i + 1\n",
    "            A[i], A[j] = A[j], A[i]\n",
    "    A[i], A[q] = A[q], A[i]\n",
    "    return i \n",
    "\n",
    "def quick_sort(A, p, r):\n",
    "    if p < r:\n",
    "        q = partition(A, p, r)\n",
    "        quick_sort(A, p, q - 1)\n",
    "        quick_sort(A, q + 1, r)"
   ]
  },
  {
   "cell_type": "code",
   "execution_count": 8,
   "metadata": {},
   "outputs": [
    {
     "name": "stdout",
     "output_type": "stream",
     "text": [
      "[1, 5, 2, 3, 2, 4, 6]\n"
     ]
    }
   ],
   "source": [
    "# Test the Quick sort\n",
    "A = [5, 2, 4, 6, 1, 2, 3]\n",
    "quick_sort(A, 0, len(A)-1)\n",
    "print(A)"
   ]
  }
 ],
 "metadata": {
  "kernelspec": {
   "display_name": "Python 3",
   "language": "python",
   "name": "python3"
  },
  "language_info": {
   "codemirror_mode": {
    "name": "ipython",
    "version": 3
   },
   "file_extension": ".py",
   "mimetype": "text/x-python",
   "name": "python",
   "nbconvert_exporter": "python",
   "pygments_lexer": "ipython3",
   "version": "3.9.6"
  }
 },
 "nbformat": 4,
 "nbformat_minor": 2
}
