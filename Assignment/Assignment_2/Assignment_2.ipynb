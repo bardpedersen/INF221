{
 "cells": [
  {
   "cell_type": "markdown",
   "metadata": {},
   "source": [
    "# Assignment 2\n",
    "\n",
    "Peder Ørmen Bukaasen, Bård Tollef Pedersen and Eivind Lid Trøen"
   ]
  },
  {
   "cell_type": "markdown",
   "metadata": {},
   "source": [
    "## Exercise 1\n"
   ]
  },
  {
   "cell_type": "markdown",
   "metadata": {},
   "source": [
    "### A\n",
    "For all positive integers n, The sum of the first n square numbers is eaual to n(n+1)(2n+1) / 6  \n",
    "\n",
    "We assume that the formula holds for some arbitrary positive integer\n",
    "1<sup>2</sup> + 2<sup>2</sup> + 3<sup>2</sup> + ... + k<sup>2</sup> = k(k+1)(2k+1) / 6 \n",
    "\n",
    "We need to show that the formula holds for n = k + 1, \n",
    "\n",
    "1<sup>2</sup> + 2<sup>2</sup> + ... + (k+1)<sup>2</sup> = (k+1)((k+1)+1)(2(k+1)+1) / 6   \n",
    "LHS = RHS\n",
    "\n",
    "Starting with the left-hand side (LHS), which is the sum of the first k+1 square numbers:\n",
    "\n",
    "LHS => 1<sup>2</sup> + 2<sup>2</sup> + ... + k<sup>2</sup> + (k+1)<sup>2</sup>\n",
    "\n",
    "We know that  1<sup>2</sup> + 2<sup>2</sup> + ... + k<sup>2</sup>  can be expressed as k(k+1)(2k+1) / 6  (our inductive hypothesis).\n",
    "So, the LHS becomes:  \n",
    "LHS = k(k+1)(2k+1) / 6  +  k<sup>2</sup>  \n",
    "LHS = (k(k+1)(2k+1) + 6(k+1)<sup>2</sup>) / 6   \n",
    "LHS = ((k+1)(k(2k+1) + 6(k+1))) / 6  \n",
    "LHS = ((k+1)(2k^2 + k + 6k + 6)) / 6   \n",
    "LHS = ((k+1)(2k^2 + 7k + 6)) / 6  \n",
    "LHS = ((k+1)(k+2)(2k+3)) / 6  \n",
    "\n",
    "RHS = (k+1)((k+1)+1)(2(k+1)+1) / 6   \n",
    "RHS = ((k+1)(k+2)(2k+3)) / 6  \n",
    "​\t\n",
    "\n",
    "The LHS is the same as the right-hand side (RHS). Thus, we've shown that if the formula holds for k, it also holds for k + 1.\n",
    "\n",
    "By the principle of mathematical induction, the formula holds for all positive integers n. Therefore, we've proven that the sum of the first n square numbers is indeed (n(n+1)(2n+1)) / 6.\n",
    "\n",
    "\n",
    "### B\n",
    "For all integers n, if n<sup>3</sup> + 5 is odd then n is even.\n",
    "\n",
    "Some ground rules:  \n",
    "When two even numbers are multiplied it becomes even.  \n",
    "When two odd numbers are multiplied it becomes odd.  \n",
    "When even and odd are multiplied it becomes even.\n",
    "\n",
    "\n",
    "Lets say that n is even, and that measn n+1 is odd.  \n",
    "We can then test the statement for even numbers, n.    \n",
    "n<sup>3</sup> + 5 = n * n * n + 5 => n + 5 => n + n + 1 => n + 1 => odd\n",
    "\n",
    "No test if n is an odd number as n+1.  \n",
    "(n+1)*(n+1)*(n+1) + 5 => n<sup>3</sup> + 3*n<sup>2</sup> + 3*n + 6  \n",
    "\n",
    "n<sup>3</sup> => n * n * n => n   \n",
    "3 * n<sup>2</sup> => 3 * n * n => n   \n",
    "3 * n => n  \n",
    "6 => n    \n",
    "\n",
    "n<sup>3</sup> + 3*n<sup>2</sup> + 3*n + 6 => n + n + n + n => 4 * n => n, wich is even.\n",
    "\n",
    "The result of n<sup>3</sup> + 5 is the oppisit of n,\n",
    "so if the result is odd then n is even, and vice versa.\n",
    "\n"
   ]
  },
  {
   "cell_type": "markdown",
   "metadata": {},
   "source": [
    "## Exercise 2"
   ]
  },
  {
   "cell_type": "markdown",
   "metadata": {},
   "source": [
    "First function takes four arguments instead of 3, but loops each element max once."
   ]
  },
  {
   "cell_type": "code",
   "execution_count": 214,
   "metadata": {},
   "outputs": [],
   "source": [
    "def recursively_search(search_list, value, index=0, start_index=0): # Maybe reomve the start_index from the function call\n",
    "         \n",
    "    # If the current index is the value, return the index\n",
    "    if search_list[index] == value:\n",
    "        return index\n",
    "\n",
    "    # If the list is at the end, begin at the start\n",
    "    if index == len(search_list) -1:\n",
    "        index = -1 \n",
    "\n",
    "    # If the element is not found, return -1\n",
    "    index += 1 \n",
    "    if index == start_index:\n",
    "        return -1\n",
    "    \n",
    "    return recursively_search(search_list, value, index, start_index)"
   ]
  },
  {
   "cell_type": "code",
   "execution_count": 215,
   "metadata": {},
   "outputs": [
    {
     "data": {
      "text/plain": [
       "4"
      ]
     },
     "execution_count": 215,
     "metadata": {},
     "output_type": "execute_result"
    }
   ],
   "source": [
    "# Test in python to see that it works:\n",
    "\n",
    "list_number = [1, 2, 3, 4, \"value\", \"test\", 2.5]\n",
    "start = 1\n",
    "start_index = start\n",
    "value = \"value\"\n",
    "recursively_search(list_number, value, start, start_index) # Maybe reomve the start_index from the function call"
   ]
  },
  {
   "cell_type": "markdown",
   "metadata": {},
   "source": [
    "This function has only 3 inputs, but in worst case it loops entire list twice."
   ]
  },
  {
   "cell_type": "code",
   "execution_count": 216,
   "metadata": {},
   "outputs": [],
   "source": [
    "def recursively_search1(search_list, value, index=0):   \n",
    "    print(search_list, index)\n",
    "\n",
    "    temp_index = index\n",
    "\n",
    "    if temp_index >= len(search_list):\n",
    "        temp_index = index - len(search_list)\n",
    "\n",
    "    if temp_index == len(search_list):\n",
    "        return -1\n",
    "\n",
    "    if search_list[temp_index] == value:\n",
    "        return temp_index\n",
    "        \n",
    "    index += 1\n",
    "    return recursively_search1(search_list, value, index)\n"
   ]
  },
  {
   "cell_type": "code",
   "execution_count": 217,
   "metadata": {},
   "outputs": [
    {
     "name": "stdout",
     "output_type": "stream",
     "text": [
      "[0, 1, 2, 3, 4, 'value', 'test', 2.5] 0\n",
      "[0, 1, 2, 3, 4, 'value', 'test', 2.5] 1\n",
      "[0, 1, 2, 3, 4, 'value', 'test', 2.5] 2\n",
      "[0, 1, 2, 3, 4, 'value', 'test', 2.5] 3\n",
      "[0, 1, 2, 3, 4, 'value', 'test', 2.5] 4\n",
      "[0, 1, 2, 3, 4, 'value', 'test', 2.5] 5\n",
      "[0, 1, 2, 3, 4, 'value', 'test', 2.5] 6\n",
      "[0, 1, 2, 3, 4, 'value', 'test', 2.5] 7\n",
      "[0, 1, 2, 3, 4, 'value', 'test', 2.5] 8\n",
      "[0, 1, 2, 3, 4, 'value', 'test', 2.5] 9\n",
      "[0, 1, 2, 3, 4, 'value', 'test', 2.5] 10\n",
      "[0, 1, 2, 3, 4, 'value', 'test', 2.5] 11\n",
      "[0, 1, 2, 3, 4, 'value', 'test', 2.5] 12\n",
      "[0, 1, 2, 3, 4, 'value', 'test', 2.5] 13\n",
      "[0, 1, 2, 3, 4, 'value', 'test', 2.5] 14\n",
      "[0, 1, 2, 3, 4, 'value', 'test', 2.5] 15\n",
      "[0, 1, 2, 3, 4, 'value', 'test', 2.5] 16\n"
     ]
    },
    {
     "data": {
      "text/plain": [
       "-1"
      ]
     },
     "execution_count": 217,
     "metadata": {},
     "output_type": "execute_result"
    }
   ],
   "source": [
    "# Test in python to see that it works:\n",
    "#              0  1  2  3  4     5        6     7\n",
    "list_number = [0, 1, 2, 3, 4, \"value\", \"test\", 2.5]\n",
    "start = 0\n",
    "value = -1\n",
    "recursively_search1(list_number, value, start)"
   ]
  },
  {
   "cell_type": "markdown",
   "metadata": {},
   "source": [
    "## Exercise 3"
   ]
  },
  {
   "cell_type": "markdown",
   "metadata": {},
   "source": [
    "From the lecture,  \n",
    "\"Sn = 1/2 * n(2a + (n − 1)d), where a is the starting value, d is the constant, n is the\n",
    "number of terms\"  \n",
    "\n",
    "With the list [-4, -1, 2, 5, ... up to 20 term],  \n",
    "we then get:  \n",
    "a = -4  \n",
    "d = 3  \n",
    "n = 20  \n",
    "\n",
    "Sn = 1/2 * n * (2 * a + (n − 1) * d)   \n",
    "Sn = 1/2 * 20 * (2*-4  + (20-1)*3)  \n",
    "Sn = 1/2 * 20 * (-8 + 57)  \n",
    "Sn = 1/2 * 980  \n",
    "Sn = <u>490</u>"
   ]
  },
  {
   "cell_type": "code",
   "execution_count": 218,
   "metadata": {},
   "outputs": [
    {
     "data": {
      "text/plain": [
       "490"
      ]
     },
     "execution_count": 218,
     "metadata": {},
     "output_type": "execute_result"
    }
   ],
   "source": [
    "# Test in python to see that the answers are the same:\n",
    "\n",
    "Sn = 0\n",
    "value = -4\n",
    "for _ in range(20):\n",
    "    Sn += value\n",
    "    value += 3\n",
    "Sn"
   ]
  }
 ],
 "metadata": {
  "kernelspec": {
   "display_name": "Python 3",
   "language": "python",
   "name": "python3"
  },
  "language_info": {
   "codemirror_mode": {
    "name": "ipython",
    "version": 3
   },
   "file_extension": ".py",
   "mimetype": "text/x-python",
   "name": "python",
   "nbconvert_exporter": "python",
   "pygments_lexer": "ipython3",
   "version": "3.9.6"
  }
 },
 "nbformat": 4,
 "nbformat_minor": 2
}
