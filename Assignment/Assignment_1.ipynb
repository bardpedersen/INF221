{
 "cells": [
  {
   "cell_type": "markdown",
   "metadata": {},
   "source": [
    "# Assignment 1"
   ]
  },
  {
   "cell_type": "markdown",
   "metadata": {},
   "source": [
    "## Task 1\n",
    "\n",
    "The base case is when the list has only one number, then return that number.\n",
    "If it has more than one number, add the first element to the sum of the rest of the list.\n",
    "The sum of the rest of the list is calculated by calling the function with the rest of the list as an argument.\n",
    "This is done until the base case is reached.\n",
    "\n",
    "So for the list [1, 2, 3, 4], the function will return 1 + sum_of_numbers([2, 3, 4]).\n",
    "Then it will return 2 + sum_of_numbers([3, 4]), then 3 + sum_of_numbers([4]), and finally 4.\n",
    "Backtracking, it will return 4 + 3, then 7 + 2, and finally 9 + 1, which is 10."
   ]
  },
  {
   "cell_type": "markdown",
   "metadata": {},
   "source": []
  },
  {
   "cell_type": "code",
   "execution_count": 7,
   "metadata": {},
   "outputs": [
    {
     "name": "stdout",
     "output_type": "stream",
     "text": [
      "sum of list:  10\n"
     ]
    }
   ],
   "source": [
    "def sum_of_numbers(n_list):\n",
    "    if len(n_list) == 1:\n",
    "        return n_list[0]\n",
    "    return n_list[0] + sum_of_numbers(n_list[1:])\n",
    "\n",
    "list_2 = [1, 2, 3, 4]\n",
    "print(\"sum of list: \", sum_of_numbers(list_2))  # 10"
   ]
  },
  {
   "cell_type": "markdown",
   "metadata": {},
   "source": [
    "## Task 2\n",
    "\n",
    "Python class named Rectangle that represents a rectangle. This class include:\n",
    "\n",
    "A constructor that takes the length and width of the rectangle as inputs.\n",
    "A method area() that computes and returns the area of the rectangle.\n",
    "A method perimeter() that computes and returns the perimeter of the rectangle.\n",
    "The class has appropriate checks to ensure that the length and width are positive numbers."
   ]
  },
  {
   "cell_type": "code",
   "execution_count": 8,
   "metadata": {},
   "outputs": [
    {
     "name": "stdout",
     "output_type": "stream",
     "text": [
      "Area of rectangle:  20\n",
      "Perimeter of rectangle:  18\n"
     ]
    }
   ],
   "source": [
    "class Rectangle:\n",
    "    def __init__(self, length, width):\n",
    "        if length <= 0 or width <= 0:\n",
    "            raise ValueError(\"Length and width must be positive numbers\")\n",
    "        self.length = length\n",
    "        self.width = width\n",
    "\n",
    "    def area(self):\n",
    "        return self.length * self.width\n",
    "\n",
    "    def perimeter(self):\n",
    "        return 2 * (self.length + self.width)\n",
    "\n",
    "rectangle = Rectangle(5, 4)\n",
    "print(\"Area of rectangle: \", rectangle.area()) # 20\n",
    "print(\"Perimeter of rectangle: \", rectangle.perimeter()) # 18"
   ]
  },
  {
   "cell_type": "markdown",
   "metadata": {},
   "source": [
    "## Task 3\n",
    "\n",
    "The base case is when the list has only one number, then return that number. \n",
    "If it has more than one number, compare the first element with the minimum of the rest of the list.\n",
    "The minimum of the rest of the list is calculated by calling the function with the rest of the list as an argument.\n",
    "This is done until the base case is reached.\n",
    "\n",
    "So for the list [7, 2, 5, 1, 8], the function will return the minimum of 7 and minimum([2, 5, 1, 8]).\n",
    "Then it will return the minimum of 2 and minimum([5, 1, 8]), then 1 and minimum([5, 8]), and finally 5.\n",
    "Backtracking, it will return check smallest of 5 and 1, then 1 and 2, and finally 1 and 7, which is 1."
   ]
  },
  {
   "cell_type": "code",
   "execution_count": 9,
   "metadata": {},
   "outputs": [
    {
     "name": "stdout",
     "output_type": "stream",
     "text": [
      "The minimum value of list:  1\n"
     ]
    }
   ],
   "source": [
    "def minimum(list):\n",
    "    if len(list) == 1:\n",
    "        return list[0]\n",
    "    if list[0] < minimum(list[1:]):\n",
    "        return list[0]\n",
    "    else:\n",
    "        return minimum(list[1:])\n",
    "\n",
    "list_1 = [7, 2, 5, 1, 8]  \n",
    "print(\"The minimum value of list: \",minimum(list_1)) # 1  "
   ]
  }
 ],
 "metadata": {
  "kernelspec": {
   "display_name": "Python 3",
   "language": "python",
   "name": "python3"
  },
  "language_info": {
   "codemirror_mode": {
    "name": "ipython",
    "version": 3
   },
   "file_extension": ".py",
   "mimetype": "text/x-python",
   "name": "python",
   "nbconvert_exporter": "python",
   "pygments_lexer": "ipython3",
   "version": "3.9.6"
  }
 },
 "nbformat": 4,
 "nbformat_minor": 2
}
