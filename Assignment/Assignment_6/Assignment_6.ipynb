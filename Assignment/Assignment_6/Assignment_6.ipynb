{
 "cells": [
  {
   "cell_type": "markdown",
   "metadata": {},
   "source": [
    "# Assignment 6\n",
    "\n",
    "Peder Ørmen Bukaasen, Bård Tollef Pedersen and Eivind Lid Trøen"
   ]
  },
  {
   "cell_type": "markdown",
   "metadata": {},
   "source": [
    "## Exercise 1"
   ]
  },
  {
   "cell_type": "markdown",
   "metadata": {},
   "source": [
    "#### Adjacency-list representation  \n",
    "\n",
    "1 &rarr; 2 &rarr; 3  \n",
    "2 &rarr; 1 &rarr; 4 &rarr; 5  \n",
    "3 &rarr; 1 &rarr; 6 &rarr; 7  \n",
    "4 &rarr; 2  \n",
    "5 &rarr; 2  \n",
    "6 &rarr; 3  \n",
    "7 &rarr; 3  \n",
    "\n",
    "#### Adjacency-matrix representation\n",
    "\n",
    "|   | 1 | 2 | 3 | 4 | 5 | 6 | 7 |\n",
    "|---|---|---|---|---|---|---|---|\n",
    "| 1 | 0 | 1 | 1 | 0 | 0 | 0 | 0 |\n",
    "| 2 | 1 | 0 | 0 | 1 | 1 | 0 | 0 |\n",
    "| 3 | 1 | 0 | 0 | 0 | 0 | 1 | 1 |\n",
    "| 4 | 0 | 1 | 0 | 0 | 0 | 0 | 0 |\n",
    "| 5 | 0 | 1 | 0 | 0 | 0 | 0 | 0 |\n",
    "| 6 | 0 | 0 | 1 | 0 | 0 | 0 | 0 |\n",
    "| 7 | 0 | 0 | 1 | 0 | 0 | 0 | 0 |\n"
   ]
  },
  {
   "cell_type": "markdown",
   "metadata": {},
   "source": [
    "## Exercise 2"
   ]
  },
  {
   "cell_type": "markdown",
   "metadata": {},
   "source": [
    "### 2.1"
   ]
  },
  {
   "cell_type": "markdown",
   "metadata": {},
   "source": [
    "#### Breadth First Search traversal with queue\n",
    "\n",
    "Step 1\n",
    " \n",
    "| Visited | A | - | - | - | - | - |\n",
    "|---|---|---|---|---|---|---|  \n",
    "  \n",
    "\n",
    "| Queue | A | - | - | - | - | - |\n",
    "|---|---|---|---|---|---|---|\n",
    "\n",
    "Step 2\n",
    "\n",
    "| Visited | A | B | C | - | - | - |\n",
    "|---|---|---|---|---|---|---|  \n",
    "  \n",
    "\n",
    "| Queue | B | C | - | - | - | - |\n",
    "|---|---|---|---|---|---|---|\n",
    "\n",
    "Step 3\n",
    "\n",
    "| Visited | A | B | C | D | E | - |\n",
    "|---|---|---|---|---|---|---|    \n",
    "  \n",
    "\n",
    "| Queue | C | D | E | - | - | - |\n",
    "|---|---|---|---|---|---|---|\n",
    "\n",
    "Step 4\n",
    "\n",
    "| Visited | A | B | C | D | E | F |\n",
    "|---|---|---|---|---|---|---|    \n",
    "  \n",
    "\n",
    "| Queue | D | E | F | - | - | - |\n",
    "|---|---|---|---|---|---|---|\n",
    "\n",
    "Step 5\n",
    "\n",
    "| Visited | A | B | C | D | E | F |\n",
    "|---|---|---|---|---|---|---|  \n",
    "  \n",
    "\n",
    "| Queue | E | F | - | - | - | - |\n",
    "|---|---|---|---|---|---|---|\n",
    "\n",
    "Step 6\n",
    "\n",
    "| Visited | A | B | C | D | E | F |\n",
    "|---|---|---|---|---|---|---|   \n",
    "  \n",
    "\n",
    "| Queue | F | - | - | - | - | - |\n",
    "|---|---|---|---|---|---|---|\n",
    "\n",
    "Step 7\n",
    "\n",
    "| Visited | A | B | C | D | E | F |\n",
    "|---|---|---|---|---|---|---|  \n",
    "  \n",
    "\n",
    "| Queue | - | - | - | - | - | - |\n",
    "|---|---|---|---|---|---|---|"
   ]
  },
  {
   "cell_type": "markdown",
   "metadata": {},
   "source": [
    "### 2.2\n"
   ]
  },
  {
   "cell_type": "markdown",
   "metadata": {},
   "source": [
    "#### Depth First Search traversal with stack\n",
    "\n",
    "Step 1\n",
    " \n",
    "| Visited | A | - | - | - | - | - |\n",
    "|---|---|---|---|---|---|---|  \n",
    "  \n",
    "\n",
    "| Stack | B | C | - | - | - | - |\n",
    "|---|---|---|---|---|---|---|\n",
    "\n",
    "Step 2\n",
    "\n",
    "| Visited | A | B | - | - | - | - |\n",
    "|---|---|---|---|---|---|---|  \n",
    "  \n",
    "\n",
    "| Stack | E | D | C | - | - | - |\n",
    "|---|---|---|---|---|---|---|\n",
    "\n",
    "Step 3\n",
    "\n",
    "| Visited | A | B | E | - | - | - |\n",
    "|---|---|---|---|---|---|---|    \n",
    "  \n",
    "\n",
    "| Stack | D | C | - | - | - | - |\n",
    "|---|---|---|---|---|---|---|\n",
    "\n",
    "Step 4\n",
    "\n",
    "| Visited | A | B | E | D | - | - |\n",
    "|---|---|---|---|---|---|---|    \n",
    "  \n",
    "\n",
    "| Stack | C | - | - | - | - | - |\n",
    "|---|---|---|---|---|---|---|\n",
    "\n",
    "Step 5\n",
    "\n",
    "| Visited | A | B | E | D | C | - |\n",
    "|---|---|---|---|---|---|---|  \n",
    "  \n",
    "\n",
    "| Stack | F | - | - | - | - | - |\n",
    "|---|---|---|---|---|---|---|\n",
    "\n",
    "Step 6\n",
    "\n",
    "| Visited | A | B | E | D | C | F |\n",
    "|---|---|---|---|---|---|---|   \n",
    "  \n",
    "\n",
    "| Stack | - | - | - | - | - | - |\n",
    "|---|---|---|---|---|---|---|"
   ]
  }
 ],
 "metadata": {
  "kernelspec": {
   "display_name": "Python 3",
   "language": "python",
   "name": "python3"
  },
  "language_info": {
   "codemirror_mode": {
    "name": "ipython",
    "version": 3
   },
   "file_extension": ".py",
   "mimetype": "text/x-python",
   "name": "python",
   "nbconvert_exporter": "python",
   "pygments_lexer": "ipython3",
   "version": "3.9.6"
  }
 },
 "nbformat": 4,
 "nbformat_minor": 2
}
